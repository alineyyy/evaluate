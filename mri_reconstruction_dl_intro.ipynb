{
  "cells": [
    {
      "cell_type": "markdown",
      "metadata": {
        "id": "O_Q3s5ar9oAk"
      },
      "source": [
        "# MRI Reconstruction: a comparison between classical and learning approaches\n",
        "\n",
        "In this notebook we will try to reconstruct MR images using the Cascade-net [[1]](#ref1);\n",
        "\n",
        "[1] <a id='ref1'></a> Schlemper, J., Caballero, J., Hajnal, J. V, Price, A., & Rueckert, D. (2018). A Deep Cascade of Convolutional Neural Networks for MR Image Reconstruction. IEEE Transactions on Medical Imaging, 37(2), 491–503. https://doi.org/10.1109/TMI.2017.2760978\n",
        "\n"
      ]
    },
    {
      "cell_type": "code",
      "execution_count": null,
      "metadata": {
        "colab": {
          "base_uri": "https://localhost:8080/"
        },
        "id": "CjAerxUg9o3F",
        "outputId": "b7e83508-de3d-4c07-a718-4572fe6855fe"
      },
      "outputs": [],
      "source": [
        "!pip install git+https://github.com/zaccharieramzi/fastmri-reproducible-benchmark/ silence-tensorflow"
      ]
    },
    {
      "cell_type": "markdown",
      "metadata": {
        "id": "ZkyeKioi9oAy"
      },
      "source": [
        "# A bit of context\n",
        "MRI stands for Magnetic Resonance Imaging.\n",
        "It is a medical imaging modality that is used to probe soft tissues inside the human body non-invasively and without the use of ionizing radiations.\n",
        "\n",
        "However, MRI is particularly slow because it relies on the Magnetic Resonance phenomenon, which is inherently slow.\n",
        "One way to speed up MRI is to acquire fewer signals (k-space shots ${\\bf y}$), i.e. undersample.\n",
        "If we do that, we find ourselves in a situation where we have not enough signals to reconstruct the image using simply the Inverse Fourier Transform ($F^{-1}$) as is typically done.\n",
        "In fact, we have an ill-posed inverse problem that one must solve using priors on the MR images ${\\bf x}$.\n",
        "\n",
        "$$\n",
        "F_{\\Omega}{\\bf x} = {\\bf y}\n",
        "$$\n",
        "\n",
        "where $F_{\\Omega}$ is a masked Fourier Transform with a mask $\\Omega$ that selects the sampled lines in the k-space.\n",
        "\n",
        "This means that we need a function to tell apart all the possible solutions of the inverse problem, that tells which solution is more likely to be an MR image.\n",
        "\n",
        "In classical Compressed Sensing, these priors are handcrafted.\n",
        "Deep Learning allows us to learn these priors from data."
      ]
    },
    {
      "cell_type": "code",
      "execution_count": null,
      "metadata": {
        "colab": {
          "base_uri": "https://localhost:8080/"
        },
        "id": "09CddDN_9oAz",
        "outputId": "2d277cb5-99ad-4ee1-cb5b-6138d86b322d"
      },
      "outputs": [],
      "source": [
        "%matplotlib inline\n",
        "%env TF_CPP_MIN_LOG_LEVEL=3\n",
        "import warnings\n",
        "warnings.filterwarnings(\"ignore\")\n",
        "\n",
        "import io\n",
        "import requests\n",
        "\n",
        "from huggingface_hub import hf_hub_download\n",
        "import matplotlib.pyplot as plt\n",
        "import numpy as np\n",
        "import tensorflow as tf\n",
        "\n",
        "from fastmri_recon.data.utils.crop import crop_center\n",
        "from fastmri_recon.data.utils.masking.gen_mask import gen_mask\n",
        "from fastmri_recon.evaluate.metrics.np_metrics import psnr, ssim\n",
        "from fastmri_recon.models.functional_models.cascading import cascade_net\n",
        "from fastmri_recon.models.subclassed_models.updnet import UPDNet"
      ]
    },
    {
      "cell_type": "code",
      "execution_count": null,
      "metadata": {
        "id": "CWx35Zr99oA1"
      },
      "outputs": [],
      "source": [
        "plt.rcParams['figure.figsize'] = (5, 5)\n",
        "plt.rcParams['image.cmap'] = 'gray'\n",
        "plt.rcParams['font.size'] = 6"
      ]
    },
    {
      "cell_type": "code",
      "execution_count": null,
      "metadata": {
        "id": "GSUxxvx79oA2"
      },
      "outputs": [],
      "source": [
        "np.random.seed(0)"
      ]
    },
    {
      "cell_type": "markdown",
      "metadata": {
        "id": "S9PWyXMt9oA2"
      },
      "source": [
        "## Outline\n",
        "\n",
        "In this notebook, we will [load the data](#data), [retrospectively undersample it](#undersample), and then reconstruct it using the [Cascade-Net](#cascade)"
      ]
    },
    {
      "cell_type": "markdown",
      "metadata": {
        "id": "4SHQz3Jw9oA2"
      },
      "source": [
        "# Data handling <a id='data'></a>"
      ]
    },
    {
      "cell_type": "markdown",
      "metadata": {
        "id": "xCOEfuwH9oA3"
      },
      "source": [
        "The data comes from the fastMRI database [[3]](#ref3). We selected the 16th slice of the first validation file (`file1000000`).\n",
        "\n",
        "This image was not used when training the pretrained models we use in this demo notebook.\n",
        "\n",
        "[3] <a id='ref3'></a> Zbontar, J., Knoll, F., Sriram, A., Muckley, M. J., Bruno, M., Defazio, A., … Lui, Y. W. (n.d.). fastMRI: An Open Dataset and Benchmarks for Accelerated MRI. Retrieved from https://arxiv.org/pdf/1811.08839.pdf"
      ]
    },
    {
      "cell_type": "markdown",
      "metadata": {
        "id": "1FjiW2f59oA3"
      },
      "source": [
        "## Data loading"
      ]
    },
    {
      "cell_type": "code",
      "execution_count": null,
      "metadata": {
        "id": "0zJj9lmV9oA4"
      },
      "outputs": [],
      "source": [
        "image = np.load(io.BytesIO(requests.get('https://github.com/zaccharieramzi/fastmri-reproducible-benchmark/raw/master/examples/gt_image.npy').content), allow_pickle=True)\n",
        "kspace = np.load(io.BytesIO(requests.get('https://github.com/zaccharieramzi/fastmri-reproducible-benchmark/raw/master/examples/gt_kspace.npy').content), allow_pickle=True)"
      ]
    },
    {
      "cell_type": "code",
      "execution_count": null,
      "metadata": {
        "colab": {
          "base_uri": "https://localhost:8080/",
          "height": 359
        },
        "id": "U2Dkbh4n9oA4",
        "outputId": "d759870d-08b4-405b-cf59-3c5ce421f702"
      },
      "outputs": [],
      "source": [
        "fig, axs = plt.subplots(1, 2)\n",
        "axs[0].imshow(image[..., 0])\n",
        "axs[0].set_title('Fully sampled knee MR image')\n",
        "axs[1].imshow(np.log(np.abs(kspace[..., 0])))\n",
        "axs[1].set_title('Fully sampled knee k-space in logscale')\n",
        "for i in [0, 1]:\n",
        "    axs[i].axis('off');"
      ]
    },
    {
      "cell_type": "markdown",
      "metadata": {
        "id": "4Pcsx__g9oA4"
      },
      "source": [
        "## Retrospective undersampling <a id='undersample'></a>"
      ]
    },
    {
      "cell_type": "markdown",
      "metadata": {
        "id": "OXl536x19oA4"
      },
      "source": [
        "In order to compare different reconstruction algorithms, i.e. algorithms that generate an MR image from undersampled data, we will simulate the acquisition of undersampled data via a retrospective undersampling.\n",
        "\n",
        "In practice, this means that we multiply the original k-space by a binary mask in which the 1 entries correspond to the sampled points in the k-space and the 0 entries correspond to the non-sampled points."
      ]
    },
    {
      "cell_type": "code",
      "execution_count": null,
      "metadata": {
        "id": "DLkgQqla9oA5"
      },
      "outputs": [],
      "source": [
        "AF = 4\n",
        "mask = gen_mask(kspace[..., 0], accel_factor=AF, seed=0)\n",
        "# the mas is received in fastmri format, we make a 1 and 0 mask in the fourier space\n",
        "fourier_mask = np.repeat(mask.astype(np.float), kspace.shape[0], axis=0)\n",
        "masked_kspace = fourier_mask[..., None] * kspace"
      ]
    },
    {
      "cell_type": "code",
      "execution_count": null,
      "metadata": {
        "colab": {
          "base_uri": "https://localhost:8080/",
          "height": 438
        },
        "id": "0L_FzFpq9oA5",
        "outputId": "0cc402a9-c37d-495b-a559-4ae69281d9c7"
      },
      "outputs": [],
      "source": [
        "plt.figure()\n",
        "plt.imshow(fourier_mask)\n",
        "plt.axis('off')\n",
        "plt.title('Mask simulating the undersampling in the Fourier space');"
      ]
    },
    {
      "cell_type": "markdown",
      "metadata": {
        "id": "tZHNbFyC9oA5"
      },
      "source": [
        "If one applies the Inverse Fourier Transform directly on the undersampled data, i.e. the masked out k-space, one obtains an aliased image."
      ]
    },
    {
      "cell_type": "code",
      "execution_count": null,
      "metadata": {
        "colab": {
          "base_uri": "https://localhost:8080/",
          "height": 438
        },
        "id": "pnNynIgO9oA5",
        "outputId": "334de828-b87d-48ec-c7e7-af8f39463514"
      },
      "outputs": [],
      "source": [
        "plt.figure()\n",
        "plt.imshow(crop_center(np.abs(np.fft.fftshift(np.fft.ifft2(masked_kspace[..., 0], norm='ortho'))), 320))\n",
        "plt.axis('off')\n",
        "plt.title('Aliased MR image');"
      ]
    },
    {
      "cell_type": "markdown",
      "metadata": {
        "id": "7lZxjr-j9oA5"
      },
      "source": [
        "## Batching\n",
        "\n",
        "Batching is necessary when using neural networks on both the training and the prediction steps."
      ]
    },
    {
      "cell_type": "code",
      "execution_count": null,
      "metadata": {
        "id": "W1RmtIC29oA6"
      },
      "outputs": [],
      "source": [
        "mask_batch = fourier_mask[None, ...]\n",
        "masked_kspace_batch = masked_kspace[None, ...]"
      ]
    },
    {
      "cell_type": "markdown",
      "metadata": {
        "id": "CCq1bbLq9oA6"
      },
      "source": [
        "## Scaling\n",
        "Scaling was used for training to avoid numerical approximations that lead to poor training. Generally the inputs are normalized, but it was easier here to just scale them using the mean over the training set."
      ]
    },
    {
      "cell_type": "code",
      "execution_count": null,
      "metadata": {
        "id": "NEHHXA1a9oA6"
      },
      "outputs": [],
      "source": [
        "masked_kspace_batch *= 1e6  # 1e6 is the mean over the training set of the absolute kspace values."
      ]
    },
    {
      "cell_type": "markdown",
      "metadata": {
        "id": "f5BMJyio9oA6"
      },
      "source": [
        "# Reconstruction using the Cascade-net <a id='cascade'></a>"
      ]
    },
    {
      "cell_type": "markdown",
      "metadata": {
        "id": "CJSeJW-w9oA6"
      },
      "source": [
        "## Model loading"
      ]
    },
    {
      "cell_type": "markdown",
      "metadata": {
        "id": "dOkXGQws9oA6"
      },
      "source": [
        "This model was trained on the [fastMRI 2D knee single coil dataset](https://fastmri.org/dataset/) with [the cascade-net training script from this repo](../fastmri_recon/training_scripts/single_coil/cascadenet_approach_af4.py)."
      ]
    },
    {
      "cell_type": "code",
      "execution_count": null,
      "metadata": {
        "id": "EwegJ_OS9oA7"
      },
      "outputs": [],
      "source": [
        "run_params = {\n",
        "    'n_cascade': 5,\n",
        "    'n_convs': 5,\n",
        "    'n_filters': 48,\n",
        "    'noiseless': True,\n",
        "}\n",
        "model_name = 'CascadeNet-fastmri'"
      ]
    },
    {
      "cell_type": "code",
      "execution_count": null,
      "metadata": {
        "colab": {
          "base_uri": "https://localhost:8080/",
          "height": 49,
          "referenced_widgets": [
            "6ce25d31fb244d89a61807608761c0d3",
            "86474a404a1a4c9d9786a49691057a3f",
            "413d37637bf44233b2df1254523a34a2",
            "42c1cc27db854dc3947a7d5e9c713236",
            "7c94da89ccd54e8b9b0773fb57b6f43a",
            "38d4ab8c95ae44989fa027e49709fb79",
            "03be715c8ffc4d26994e9d75e22fb032",
            "b534a9c10b3a4bfabcdb565beb2a406a",
            "3a7807340354408292bb55980668e9b7",
            "e67db1e6a7bc4b418d34365d7811ec0e",
            "7cc04d21c1cd40759948a9a26ebe9313"
          ]
        },
        "id": "LC7NC1bk9oA7",
        "outputId": "10e94352-097f-4284-c3eb-5d83762bffce"
      },
      "outputs": [],
      "source": [
        "model = cascade_net(input_size=(None, None, 1), fastmri=True, **run_params)\n",
        "model_weights_path = hf_hub_download(\n",
        "    repo_id=f'zaccharieramzi/{model_name}',\n",
        "    filename='model_weights.h5',\n",
        ")\n",
        "model.load_weights(model_weights_path)"
      ]
    },
    {
      "cell_type": "markdown",
      "metadata": {
        "id": "S1trTo1q9oA7"
      },
      "source": [
        "## Reconstruction"
      ]
    },
    {
      "cell_type": "code",
      "execution_count": null,
      "metadata": {
        "colab": {
          "base_uri": "https://localhost:8080/"
        },
        "id": "ExUKyr8B9oA7",
        "outputId": "af033d82-5473-4927-d350-b1ac37ca126f"
      },
      "outputs": [],
      "source": [
        "%%time\n",
        "cascade_reconstructed_image = model.predict_on_batch([masked_kspace_batch, mask_batch])"
      ]
    },
    {
      "cell_type": "markdown",
      "metadata": {
        "id": "TNXM-6mw9oA7"
      },
      "source": [
        "## Visual comparison"
      ]
    },
    {
      "cell_type": "code",
      "execution_count": null,
      "metadata": {
        "colab": {
          "base_uri": "https://localhost:8080/",
          "height": 241
        },
        "id": "OeCIj-D89oA7",
        "outputId": "47ea9858-594b-4150-9b74-cf8c7b032606"
      },
      "outputs": [],
      "source": [
        "fig, axs = plt.subplots(1, 2, sharex=True, sharey=True)\n",
        "axs[0].imshow(image[..., 0])\n",
        "axs[0].set_title('Fully sampled knee \\n MR image')\n",
        "axs[1].imshow(cascade_reconstructed_image[0, ..., 0])\n",
        "axs[1].set_title('Cascade-Net reconstruction')\n",
        "for i in [0, 1]:\n",
        "    axs[i].axis('off')"
      ]
    }
  ],
  "metadata": {
    "colab": {
      "provenance": []
    },
    "kernelspec": {
      "display_name": "Python 3",
      "language": "python",
      "name": "python3"
    },
    "language_info": {
      "codemirror_mode": {
        "name": "ipython",
        "version": 3
      },
      "file_extension": ".py",
      "mimetype": "text/x-python",
      "name": "python",
      "nbconvert_exporter": "python",
      "pygments_lexer": "ipython3",
      "version": "3.7.10"
    },
    "widgets": {
      "application/vnd.jupyter.widget-state+json": {
        "03be715c8ffc4d26994e9d75e22fb032": {
          "model_module": "@jupyter-widgets/controls",
          "model_module_version": "1.5.0",
          "model_name": "DescriptionStyleModel",
          "state": {
            "_model_module": "@jupyter-widgets/controls",
            "_model_module_version": "1.5.0",
            "_model_name": "DescriptionStyleModel",
            "_view_count": null,
            "_view_module": "@jupyter-widgets/base",
            "_view_module_version": "1.2.0",
            "_view_name": "StyleView",
            "description_width": ""
          }
        },
        "38d4ab8c95ae44989fa027e49709fb79": {
          "model_module": "@jupyter-widgets/base",
          "model_module_version": "1.2.0",
          "model_name": "LayoutModel",
          "state": {
            "_model_module": "@jupyter-widgets/base",
            "_model_module_version": "1.2.0",
            "_model_name": "LayoutModel",
            "_view_count": null,
            "_view_module": "@jupyter-widgets/base",
            "_view_module_version": "1.2.0",
            "_view_name": "LayoutView",
            "align_content": null,
            "align_items": null,
            "align_self": null,
            "border": null,
            "bottom": null,
            "display": null,
            "flex": null,
            "flex_flow": null,
            "grid_area": null,
            "grid_auto_columns": null,
            "grid_auto_flow": null,
            "grid_auto_rows": null,
            "grid_column": null,
            "grid_gap": null,
            "grid_row": null,
            "grid_template_areas": null,
            "grid_template_columns": null,
            "grid_template_rows": null,
            "height": null,
            "justify_content": null,
            "justify_items": null,
            "left": null,
            "margin": null,
            "max_height": null,
            "max_width": null,
            "min_height": null,
            "min_width": null,
            "object_fit": null,
            "object_position": null,
            "order": null,
            "overflow": null,
            "overflow_x": null,
            "overflow_y": null,
            "padding": null,
            "right": null,
            "top": null,
            "visibility": null,
            "width": null
          }
        },
        "3a7807340354408292bb55980668e9b7": {
          "model_module": "@jupyter-widgets/controls",
          "model_module_version": "1.5.0",
          "model_name": "ProgressStyleModel",
          "state": {
            "_model_module": "@jupyter-widgets/controls",
            "_model_module_version": "1.5.0",
            "_model_name": "ProgressStyleModel",
            "_view_count": null,
            "_view_module": "@jupyter-widgets/base",
            "_view_module_version": "1.2.0",
            "_view_name": "StyleView",
            "bar_color": null,
            "description_width": ""
          }
        },
        "413d37637bf44233b2df1254523a34a2": {
          "model_module": "@jupyter-widgets/controls",
          "model_module_version": "1.5.0",
          "model_name": "FloatProgressModel",
          "state": {
            "_dom_classes": [],
            "_model_module": "@jupyter-widgets/controls",
            "_model_module_version": "1.5.0",
            "_model_name": "FloatProgressModel",
            "_view_count": null,
            "_view_module": "@jupyter-widgets/controls",
            "_view_module_version": "1.5.0",
            "_view_name": "ProgressView",
            "bar_style": "success",
            "description": "",
            "description_tooltip": null,
            "layout": "IPY_MODEL_b534a9c10b3a4bfabcdb565beb2a406a",
            "max": 1831264,
            "min": 0,
            "orientation": "horizontal",
            "style": "IPY_MODEL_3a7807340354408292bb55980668e9b7",
            "value": 1831264
          }
        },
        "42c1cc27db854dc3947a7d5e9c713236": {
          "model_module": "@jupyter-widgets/controls",
          "model_module_version": "1.5.0",
          "model_name": "HTMLModel",
          "state": {
            "_dom_classes": [],
            "_model_module": "@jupyter-widgets/controls",
            "_model_module_version": "1.5.0",
            "_model_name": "HTMLModel",
            "_view_count": null,
            "_view_module": "@jupyter-widgets/controls",
            "_view_module_version": "1.5.0",
            "_view_name": "HTMLView",
            "description": "",
            "description_tooltip": null,
            "layout": "IPY_MODEL_e67db1e6a7bc4b418d34365d7811ec0e",
            "placeholder": "​",
            "style": "IPY_MODEL_7cc04d21c1cd40759948a9a26ebe9313",
            "value": " 1.83M/1.83M [00:00&lt;00:00, 4.98MB/s]"
          }
        },
        "6ce25d31fb244d89a61807608761c0d3": {
          "model_module": "@jupyter-widgets/controls",
          "model_module_version": "1.5.0",
          "model_name": "HBoxModel",
          "state": {
            "_dom_classes": [],
            "_model_module": "@jupyter-widgets/controls",
            "_model_module_version": "1.5.0",
            "_model_name": "HBoxModel",
            "_view_count": null,
            "_view_module": "@jupyter-widgets/controls",
            "_view_module_version": "1.5.0",
            "_view_name": "HBoxView",
            "box_style": "",
            "children": [
              "IPY_MODEL_86474a404a1a4c9d9786a49691057a3f",
              "IPY_MODEL_413d37637bf44233b2df1254523a34a2",
              "IPY_MODEL_42c1cc27db854dc3947a7d5e9c713236"
            ],
            "layout": "IPY_MODEL_7c94da89ccd54e8b9b0773fb57b6f43a"
          }
        },
        "7c94da89ccd54e8b9b0773fb57b6f43a": {
          "model_module": "@jupyter-widgets/base",
          "model_module_version": "1.2.0",
          "model_name": "LayoutModel",
          "state": {
            "_model_module": "@jupyter-widgets/base",
            "_model_module_version": "1.2.0",
            "_model_name": "LayoutModel",
            "_view_count": null,
            "_view_module": "@jupyter-widgets/base",
            "_view_module_version": "1.2.0",
            "_view_name": "LayoutView",
            "align_content": null,
            "align_items": null,
            "align_self": null,
            "border": null,
            "bottom": null,
            "display": null,
            "flex": null,
            "flex_flow": null,
            "grid_area": null,
            "grid_auto_columns": null,
            "grid_auto_flow": null,
            "grid_auto_rows": null,
            "grid_column": null,
            "grid_gap": null,
            "grid_row": null,
            "grid_template_areas": null,
            "grid_template_columns": null,
            "grid_template_rows": null,
            "height": null,
            "justify_content": null,
            "justify_items": null,
            "left": null,
            "margin": null,
            "max_height": null,
            "max_width": null,
            "min_height": null,
            "min_width": null,
            "object_fit": null,
            "object_position": null,
            "order": null,
            "overflow": null,
            "overflow_x": null,
            "overflow_y": null,
            "padding": null,
            "right": null,
            "top": null,
            "visibility": null,
            "width": null
          }
        },
        "7cc04d21c1cd40759948a9a26ebe9313": {
          "model_module": "@jupyter-widgets/controls",
          "model_module_version": "1.5.0",
          "model_name": "DescriptionStyleModel",
          "state": {
            "_model_module": "@jupyter-widgets/controls",
            "_model_module_version": "1.5.0",
            "_model_name": "DescriptionStyleModel",
            "_view_count": null,
            "_view_module": "@jupyter-widgets/base",
            "_view_module_version": "1.2.0",
            "_view_name": "StyleView",
            "description_width": ""
          }
        },
        "86474a404a1a4c9d9786a49691057a3f": {
          "model_module": "@jupyter-widgets/controls",
          "model_module_version": "1.5.0",
          "model_name": "HTMLModel",
          "state": {
            "_dom_classes": [],
            "_model_module": "@jupyter-widgets/controls",
            "_model_module_version": "1.5.0",
            "_model_name": "HTMLModel",
            "_view_count": null,
            "_view_module": "@jupyter-widgets/controls",
            "_view_module_version": "1.5.0",
            "_view_name": "HTMLView",
            "description": "",
            "description_tooltip": null,
            "layout": "IPY_MODEL_38d4ab8c95ae44989fa027e49709fb79",
            "placeholder": "​",
            "style": "IPY_MODEL_03be715c8ffc4d26994e9d75e22fb032",
            "value": "Downloading model_weights.h5: 100%"
          }
        },
        "b534a9c10b3a4bfabcdb565beb2a406a": {
          "model_module": "@jupyter-widgets/base",
          "model_module_version": "1.2.0",
          "model_name": "LayoutModel",
          "state": {
            "_model_module": "@jupyter-widgets/base",
            "_model_module_version": "1.2.0",
            "_model_name": "LayoutModel",
            "_view_count": null,
            "_view_module": "@jupyter-widgets/base",
            "_view_module_version": "1.2.0",
            "_view_name": "LayoutView",
            "align_content": null,
            "align_items": null,
            "align_self": null,
            "border": null,
            "bottom": null,
            "display": null,
            "flex": null,
            "flex_flow": null,
            "grid_area": null,
            "grid_auto_columns": null,
            "grid_auto_flow": null,
            "grid_auto_rows": null,
            "grid_column": null,
            "grid_gap": null,
            "grid_row": null,
            "grid_template_areas": null,
            "grid_template_columns": null,
            "grid_template_rows": null,
            "height": null,
            "justify_content": null,
            "justify_items": null,
            "left": null,
            "margin": null,
            "max_height": null,
            "max_width": null,
            "min_height": null,
            "min_width": null,
            "object_fit": null,
            "object_position": null,
            "order": null,
            "overflow": null,
            "overflow_x": null,
            "overflow_y": null,
            "padding": null,
            "right": null,
            "top": null,
            "visibility": null,
            "width": null
          }
        },
        "e67db1e6a7bc4b418d34365d7811ec0e": {
          "model_module": "@jupyter-widgets/base",
          "model_module_version": "1.2.0",
          "model_name": "LayoutModel",
          "state": {
            "_model_module": "@jupyter-widgets/base",
            "_model_module_version": "1.2.0",
            "_model_name": "LayoutModel",
            "_view_count": null,
            "_view_module": "@jupyter-widgets/base",
            "_view_module_version": "1.2.0",
            "_view_name": "LayoutView",
            "align_content": null,
            "align_items": null,
            "align_self": null,
            "border": null,
            "bottom": null,
            "display": null,
            "flex": null,
            "flex_flow": null,
            "grid_area": null,
            "grid_auto_columns": null,
            "grid_auto_flow": null,
            "grid_auto_rows": null,
            "grid_column": null,
            "grid_gap": null,
            "grid_row": null,
            "grid_template_areas": null,
            "grid_template_columns": null,
            "grid_template_rows": null,
            "height": null,
            "justify_content": null,
            "justify_items": null,
            "left": null,
            "margin": null,
            "max_height": null,
            "max_width": null,
            "min_height": null,
            "min_width": null,
            "object_fit": null,
            "object_position": null,
            "order": null,
            "overflow": null,
            "overflow_x": null,
            "overflow_y": null,
            "padding": null,
            "right": null,
            "top": null,
            "visibility": null,
            "width": null
          }
        }
      }
    }
  },
  "nbformat": 4,
  "nbformat_minor": 0
}
